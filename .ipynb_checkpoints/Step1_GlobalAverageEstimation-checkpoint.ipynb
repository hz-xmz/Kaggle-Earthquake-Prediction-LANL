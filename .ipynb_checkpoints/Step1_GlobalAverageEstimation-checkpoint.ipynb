{
 "cells": [
  {
   "cell_type": "code",
   "execution_count": 1,
   "metadata": {},
   "outputs": [],
   "source": [
    "import pandas as pd\n",
    "import numpy as np\n",
    "import matplotlib.pyplot as plt\n",
    "import dask.dataframe as dd\n",
    "import time\n",
    "import os\n",
    "from DataPreparation.dataset_preparation import get_LANL_dataset\n",
    "from Utilities.evaluation_utils import save_submission\n",
    "\n",
    "%matplotlib inline\n",
    "%load_ext autoreload\n",
    "%autoreload 2"
   ]
  },
  {
   "cell_type": "code",
   "execution_count": 2,
   "metadata": {},
   "outputs": [],
   "source": [
    "data_dir = '../Data/LANL_Earthquake_prediction/'\n",
    "validation_split = 0.2\n",
    "numpy = False\n",
    "normalize = False\n",
    "verbose= True"
   ]
  },
  {
   "cell_type": "code",
   "execution_count": 3,
   "metadata": {},
   "outputs": [
    {
     "name": "stdout",
     "output_type": "stream",
     "text": [
      "Dask dataframes loaded.\n",
      "Done.\n",
      "\n",
      "----- Dataset Description -----\n",
      "train_df:\n",
      "acoustic_data      503316384\n",
      "time_to_failure    503316384\n",
      "dtype: int64\n",
      "-----------\n",
      "val_df:\n",
      "acoustic_data      125829096\n",
      "time_to_failure    125829096\n",
      "dtype: int64\n",
      "-----------\n",
      "test_dict size: 2624\n",
      "-------------------------------\n"
     ]
    }
   ],
   "source": [
    "data, X_train_moments = get_LANL_dataset(data_dir, validation_split, numpy, normalize)\n",
    "if numpy:\n",
    "    X_train = data['X_train']\n",
    "    y_train = data['y_train']\n",
    "    X_val = data['X_val']\n",
    "    y_val = data['y_val']\n",
    "    test_dict = data['test_dict']\n",
    "    if verbose:\n",
    "        print('')\n",
    "        print('----- Dataset Description -----')\n",
    "        print('X_train size: %d' % len(X_train))\n",
    "        print('X_val size: %d' % len(X_val))\n",
    "        print('test_dict size: %d' % len(test_dict))\n",
    "        print('-------------------------------')\n",
    "else:\n",
    "    train_df = data['train_df']\n",
    "    val_df = data['val_df']\n",
    "    test_dict = data['test_dict']\n",
    "    if verbose:\n",
    "        print('')\n",
    "        print('----- Dataset Description -----')\n",
    "        print('train_df:')\n",
    "        print(train_df.count().compute())\n",
    "        print('-----------')\n",
    "        print('val_df:')\n",
    "        print(val_df.count().compute())\n",
    "        print('-----------')\n",
    "        print('test_dict size: %d' % len(test_dict))\n",
    "        print('-------------------------------')"
   ]
  },
  {
   "cell_type": "markdown",
   "metadata": {},
   "source": [
    "### Compute Global Average"
   ]
  },
  {
   "cell_type": "code",
   "execution_count": 4,
   "metadata": {
    "scrolled": false
   },
   "outputs": [
    {
     "name": "stdout",
     "output_type": "stream",
     "text": [
      "The global average time (s) until an earthquake hits is 5.6040\n"
     ]
    }
   ],
   "source": [
    "global_avg = train_df['time_to_failure'].mean().compute()\n",
    "print('The global average time (s) until an earthquake hits is %.4f' % global_avg)"
   ]
  },
  {
   "cell_type": "markdown",
   "metadata": {},
   "source": [
    "### Evaluation"
   ]
  },
  {
   "cell_type": "code",
   "execution_count": 5,
   "metadata": {},
   "outputs": [
    {
     "name": "stdout",
     "output_type": "stream",
     "text": [
      "Train MAE: 2.99182\n"
     ]
    }
   ],
   "source": [
    "train_df['AE'] = abs(train_df['time_to_failure'] - global_avg)\n",
    "train_MAE = train_df['AE'].mean().compute()\n",
    "print('Train MAE: %.5f' % train_MAE)"
   ]
  },
  {
   "cell_type": "code",
   "execution_count": 6,
   "metadata": {},
   "outputs": [
    {
     "name": "stdout",
     "output_type": "stream",
     "text": [
      "Validation MAE: 3.25379\n"
     ]
    }
   ],
   "source": [
    "val_df['AE'] = abs(val_df['time_to_failure'] - global_avg)\n",
    "val_MAE = val_df['AE'].mean().compute()\n",
    "print('Validation MAE: %.5f' % val_MAE)"
   ]
  },
  {
   "cell_type": "markdown",
   "metadata": {},
   "source": [
    "### Predictions for Test set"
   ]
  },
  {
   "cell_type": "code",
   "execution_count": 7,
   "metadata": {},
   "outputs": [],
   "source": [
    "test_prediction_dict = {}\n",
    "for seg_id, test_df in test_dict.items():\n",
    "    test_prediction_dict.update({seg_id:global_avg})\n",
    "\n",
    "save_submission(test_prediction_dict, 'global_average_submission')"
   ]
  },
  {
   "cell_type": "code",
   "execution_count": 8,
   "metadata": {
    "scrolled": true
   },
   "outputs": [
    {
     "name": "stdout",
     "output_type": "stream",
     "text": [
      "Global Average Test MAE: 2.79500\n",
      "This got us to rank 1904 from 2043 people who had submitted results.\n"
     ]
    }
   ],
   "source": [
    "test_MAE = 2.795 # Got this number from submitting results to Kaggle\n",
    "print('Global Average Test MAE: %.5f' % test_MAE)\n",
    "print('This got us to rank 1904 from 2043 people who had submitted results.')"
   ]
  },
  {
   "cell_type": "code",
   "execution_count": null,
   "metadata": {},
   "outputs": [],
   "source": []
  },
  {
   "cell_type": "code",
   "execution_count": null,
   "metadata": {},
   "outputs": [],
   "source": []
  }
 ],
 "metadata": {
  "kernelspec": {
   "display_name": "Python 3",
   "language": "python",
   "name": "python3"
  },
  "language_info": {
   "codemirror_mode": {
    "name": "ipython",
    "version": 3
   },
   "file_extension": ".py",
   "mimetype": "text/x-python",
   "name": "python",
   "nbconvert_exporter": "python",
   "pygments_lexer": "ipython3",
   "version": "3.6.6"
  }
 },
 "nbformat": 4,
 "nbformat_minor": 2
}
