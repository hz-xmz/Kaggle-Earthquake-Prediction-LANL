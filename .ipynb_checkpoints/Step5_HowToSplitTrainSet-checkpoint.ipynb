{
 "cells": [
  {
   "cell_type": "code",
   "execution_count": 1,
   "metadata": {},
   "outputs": [
    {
     "name": "stderr",
     "output_type": "stream",
     "text": [
      "Using TensorFlow backend.\n"
     ]
    }
   ],
   "source": [
    "import pandas as pd\n",
    "import numpy as np\n",
    "import matplotlib.pyplot as plt\n",
    "import dask.dataframe as dd\n",
    "import time\n",
    "import os\n",
    "from tqdm import tqdm\n",
    "\n",
    "import keras\n",
    "from keras import metrics\n",
    "from keras.models import Sequential\n",
    "from keras.layers import Dense, Dropout, Activation, Flatten\n",
    "from keras.layers import Conv1D, MaxPooling1D, GlobalAveragePooling1D\n",
    "from keras.layers.normalization import BatchNormalization\n",
    "from keras.optimizers import SGD, Adam, adam\n",
    "from keras.callbacks import EarlyStopping, ModelCheckpoint, ReduceLROnPlateau\n",
    "\n",
    "from DataPreparation.dataset_preparation import get_LANL_data\n",
    "from Utilities.evaluation_utils import save_submission, LossPlot\n",
    "\n",
    "import tensorflow as tf\n",
    "import warnings\n",
    "tf.logging.set_verbosity(tf.logging.ERROR)\n",
    "warnings.filterwarnings('ignore')\n",
    "\n",
    "%matplotlib inline\n",
    "%load_ext autoreload\n",
    "%autoreload 2"
   ]
  },
  {
   "cell_type": "markdown",
   "metadata": {},
   "source": [
    "# =============================================================\n",
    "# ====================== Experiment 1 ===========================\n",
    "# ============================================================="
   ]
  },
  {
   "cell_type": "markdown",
   "metadata": {},
   "source": [
    "Random splitting the training set (5000 samples, no failures).\n",
    "\n",
    "Random splitting the validation set (1000 samples, no failures)."
   ]
  },
  {
   "cell_type": "markdown",
   "metadata": {},
   "source": [
    "# 1. Load Dataset"
   ]
  },
  {
   "cell_type": "code",
   "execution_count": 2,
   "metadata": {
    "scrolled": true
   },
   "outputs": [
    {
     "name": "stdout",
     "output_type": "stream",
     "text": [
      "Reading training set...\n",
      "Reading testing set...\n",
      "Splitting training & validation...\n",
      "Sampling sequences...\n",
      "Normalizing...\n",
      "Done.\n",
      "-------------\n",
      "(5000, 150000, 1)\n",
      "(5000,)\n",
      "(1000, 150000, 1)\n",
      "(1000,)\n",
      "Number of test files: 2624\n"
     ]
    }
   ],
   "source": [
    "data_dir = '../Data/LANL_Earthquake_prediction/'\n",
    "method = 'random' # 'slicing', 'random'\n",
    "n = 5000\n",
    "seq_len = 150000\n",
    "X_train, y_train, X_val, y_val, X_test_dict, X_train_moment = get_LANL_data(data_dir, method, n)\n",
    "print('-------------')\n",
    "print(X_train.shape)\n",
    "print(y_train.shape)\n",
    "print(X_val.shape)\n",
    "print(y_val.shape)\n",
    "print('Number of test files: %d' % len(X_test_dict))"
   ]
  },
  {
   "cell_type": "markdown",
   "metadata": {},
   "source": [
    "# 2. Build Model"
   ]
  },
  {
   "cell_type": "code",
   "execution_count": 3,
   "metadata": {
    "scrolled": false
   },
   "outputs": [
    {
     "name": "stdout",
     "output_type": "stream",
     "text": [
      "_________________________________________________________________\n",
      "Layer (type)                 Output Shape              Param #   \n",
      "=================================================================\n",
      "conv1d_1 (Conv1D)            (None, 149991, 32)        352       \n",
      "_________________________________________________________________\n",
      "max_pooling1d_1 (MaxPooling1 (None, 1499, 32)          0         \n",
      "_________________________________________________________________\n",
      "conv1d_2 (Conv1D)            (None, 1490, 64)          20544     \n",
      "_________________________________________________________________\n",
      "global_average_pooling1d_1 ( (None, 64)                0         \n",
      "_________________________________________________________________\n",
      "dense_1 (Dense)              (None, 16)                1040      \n",
      "_________________________________________________________________\n",
      "dense_2 (Dense)              (None, 1)                 17        \n",
      "=================================================================\n",
      "Total params: 21,953\n",
      "Trainable params: 21,953\n",
      "Non-trainable params: 0\n",
      "_________________________________________________________________\n"
     ]
    }
   ],
   "source": [
    "model = Sequential()\n",
    "\n",
    "# Conv 1\n",
    "model.add(Conv1D(32, 10, activation='relu', input_shape=(seq_len, 1)))\n",
    "\n",
    "# Max Pooling\n",
    "model.add(MaxPooling1D(100))\n",
    "\n",
    "# Conv 3\n",
    "model.add(Conv1D(64, 10, activation='relu'))\n",
    "\n",
    "# Average Pooling\n",
    "model.add(GlobalAveragePooling1D())\n",
    "\n",
    "model.add(Dense(16, kernel_initializer='normal',activation='relu'))\n",
    "# Output Layer\n",
    "model.add(Dense(1, kernel_initializer='normal',activation='linear'))\n",
    "\n",
    "earlyStopping = EarlyStopping(monitor='val_loss',\n",
    "                              patience=10,\n",
    "                              verbose=0,\n",
    "                              mode='min')\n",
    "mcp_save = ModelCheckpoint('.mdl_wts.hdf5',\n",
    "                           save_best_only=True,\n",
    "                           monitor='val_loss',\n",
    "                           mode='min')\n",
    "reduce_lr_loss = ReduceLROnPlateau(monitor='val_loss',\n",
    "                                   factor=0.1,\n",
    "                                   patience=5,\n",
    "                                   verbose=1,\n",
    "                                   epsilon=1e-4,\n",
    "                                   mode='min')\n",
    "\n",
    "model.compile(loss='mean_absolute_error', optimizer= adam(lr=1e-4), metrics=['mean_absolute_error'])\n",
    "model.summary()"
   ]
  },
  {
   "cell_type": "markdown",
   "metadata": {},
   "source": [
    "# 3. Train Model"
   ]
  },
  {
   "cell_type": "code",
   "execution_count": 4,
   "metadata": {},
   "outputs": [],
   "source": [
    "liveplot = LossPlot()"
   ]
  },
  {
   "cell_type": "code",
   "execution_count": 5,
   "metadata": {},
   "outputs": [
    {
     "data": {
      "image/png": "[encoded data removed]",
      "text/plain": [
       "<Figure size 432x288 with 1 Axes>"
      ]
     },
     "metadata": {},
     "output_type": "display_data"
    },
    {
     "data": {
      "text/plain": [
       "<keras.callbacks.History at 0x1f38d4948d0>"
      ]
     },
     "execution_count": 5,
     "metadata": {},
     "output_type": "execute_result"
    }
   ],
   "source": [
    "model.fit(X_train, \n",
    "        y_train,\n",
    "        batch_size= 16,\n",
    "        epochs= 100, \n",
    "        validation_data= (X_val, y_val),\n",
    "        callbacks=[earlyStopping, mcp_save, reduce_lr_loss, liveplot],\n",
    "        verbose=0\n",
    "         )"
   ]
  },
  {
   "cell_type": "markdown",
   "metadata": {},
   "source": [
    "# 4. Evaluate Model"
   ]
  },
  {
   "cell_type": "markdown",
   "metadata": {},
   "source": [
    "## A. MAE Scores"
   ]
  },
  {
   "cell_type": "code",
   "execution_count": 6,
   "metadata": {},
   "outputs": [
    {
     "name": "stdout",
     "output_type": "stream",
     "text": [
      "Train MAE: 2.1423\n",
      "Validation MAE: 2.4537\n"
     ]
    }
   ],
   "source": [
    "train_mae = model.evaluate(X_train, y_train, verbose=0)\n",
    "val_mae = model.evaluate(X_val, y_val, verbose=0)\n",
    "\n",
    "print('Train MAE: %.4f' % train_mae[0])\n",
    "print('Validation MAE: %.4f' % val_mae[0])"
   ]
  },
  {
   "cell_type": "markdown",
   "metadata": {},
   "source": [
    "## B. Predictions vs Targets"
   ]
  },
  {
   "cell_type": "code",
   "execution_count": 7,
   "metadata": {},
   "outputs": [],
   "source": [
    "y_pred = model.predict(X_val)"
   ]
  },
  {
   "cell_type": "code",
   "execution_count": 8,
   "metadata": {},
   "outputs": [
    {
     "data": {
      "image/png": "[encoded data removed]",
      "text/plain": [
       "<Figure size 432x432 with 1 Axes>"
      ]
     },
     "metadata": {},
     "output_type": "display_data"
    }
   ],
   "source": [
    "plt.figure(figsize=(6, 6))\n",
    "plt.scatter(y_val, y_pred)\n",
    "plt.xlim(0, 20)\n",
    "plt.ylim(0, 20)\n",
    "plt.xlabel('actual', fontsize=12)\n",
    "plt.ylabel('predicted', fontsize=12)\n",
    "plt.plot([(0, 0), (20, 20)], [(0, 0), (20, 20)])\n",
    "plt.show()"
   ]
  },
  {
   "cell_type": "markdown",
   "metadata": {},
   "source": [
    "## C. Save Test Submission"
   ]
  },
  {
   "cell_type": "code",
   "execution_count": 9,
   "metadata": {},
   "outputs": [
    {
     "name": "stdout",
     "output_type": "stream",
     "text": [
      "Submission saved to disk: submissions/Step5_submission.csv\n"
     ]
    }
   ],
   "source": [
    "X_test = []\n",
    "segment_ids = []\n",
    "for seg_id, X_test_i in X_test_dict.items():\n",
    "    X_test.append(X_test_i)\n",
    "    segment_ids.append(seg_id)\n",
    "\n",
    "X_test = np.asarray(X_test)\n",
    "y_test_pred = np.squeeze(model.predict(X_test)).tolist()\n",
    "\n",
    "prediction_dict = {seg_id:pred for seg_id, pred in zip(segment_ids, y_test_pred)}\n",
    "save_submission(prediction_dict, 'Step5_submission')"
   ]
  },
  {
   "cell_type": "markdown",
   "metadata": {},
   "source": [
    "# =============================================================\n",
    "# ====================== Experiment 2 ===========================\n",
    "# ============================================================="
   ]
  },
  {
   "cell_type": "markdown",
   "metadata": {},
   "source": [
    "Random splitting the training set (40000 samples, no failures).\n",
    "\n",
    "Random splitting the validation set (1000 samples, no failures)."
   ]
  },
  {
   "cell_type": "markdown",
   "metadata": {},
   "source": [
    "# 1. Load Dataset"
   ]
  },
  {
   "cell_type": "code",
   "execution_count": 21,
   "metadata": {
    "scrolled": true
   },
   "outputs": [
    {
     "name": "stdout",
     "output_type": "stream",
     "text": [
      "Reading training set...\n",
      "Reading testing set...\n",
      "Splitting training & validation...\n",
      "Sampling sequences...\n",
      "Normalizing...\n",
      "Done.\n",
      "-------------\n",
      "(40000, 150000, 1)\n",
      "(40000,)\n",
      "(1000, 150000, 1)\n",
      "(1000,)\n",
      "Number of test files: 2624\n"
     ]
    }
   ],
   "source": [
    "data_dir = '../Data/LANL_Earthquake_prediction/'\n",
    "method = 'random' # 'slicing', 'random'\n",
    "n = 40000\n",
    "seq_len = 150000\n",
    "X_train, y_train, X_val, y_val, X_test_dict, X_train_moment = get_LANL_data(data_dir, method, n)\n",
    "print('-------------')\n",
    "print(X_train.shape)\n",
    "print(y_train.shape)\n",
    "print(X_val.shape)\n",
    "print(y_val.shape)\n",
    "print('Number of test files: %d' % len(X_test_dict))"
   ]
  },
  {
   "cell_type": "markdown",
   "metadata": {},
   "source": [
    "# 2. Build Model"
   ]
  },
  {
   "cell_type": "code",
   "execution_count": 22,
   "metadata": {
    "scrolled": false
   },
   "outputs": [
    {
     "name": "stdout",
     "output_type": "stream",
     "text": [
      "_________________________________________________________________\n",
      "Layer (type)                 Output Shape              Param #   \n",
      "=================================================================\n",
      "conv1d_5 (Conv1D)            (None, 149991, 32)        352       \n",
      "_________________________________________________________________\n",
      "max_pooling1d_3 (MaxPooling1 (None, 1499, 32)          0         \n",
      "_________________________________________________________________\n",
      "conv1d_6 (Conv1D)            (None, 1490, 64)          20544     \n",
      "_________________________________________________________________\n",
      "global_average_pooling1d_3 ( (None, 64)                0         \n",
      "_________________________________________________________________\n",
      "dense_5 (Dense)              (None, 16)                1040      \n",
      "_________________________________________________________________\n",
      "dense_6 (Dense)              (None, 1)                 17        \n",
      "=================================================================\n",
      "Total params: 21,953\n",
      "Trainable params: 21,953\n",
      "Non-trainable params: 0\n",
      "_________________________________________________________________\n"
     ]
    }
   ],
   "source": [
    "model = Sequential()\n",
    "\n",
    "# Conv 1\n",
    "model.add(Conv1D(32, 10, activation='relu', input_shape=(seq_len, 1)))\n",
    "\n",
    "# Max Pooling\n",
    "model.add(MaxPooling1D(100))\n",
    "\n",
    "# Conv 3\n",
    "model.add(Conv1D(64, 10, activation='relu'))\n",
    "\n",
    "# Average Pooling\n",
    "model.add(GlobalAveragePooling1D())\n",
    "\n",
    "model.add(Dense(16, kernel_initializer='normal',activation='relu'))\n",
    "# Output Layer\n",
    "model.add(Dense(1, kernel_initializer='normal',activation='linear'))\n",
    "\n",
    "earlyStopping = EarlyStopping(monitor='val_loss',\n",
    "                              patience=10,\n",
    "                              verbose=0,\n",
    "                              mode='min')\n",
    "mcp_save = ModelCheckpoint('.mdl_wts.hdf5',\n",
    "                           save_best_only=True,\n",
    "                           monitor='val_loss',\n",
    "                           mode='min')\n",
    "reduce_lr_loss = ReduceLROnPlateau(monitor='val_loss',\n",
    "                                   factor=0.1,\n",
    "                                   patience=5,\n",
    "                                   verbose=1,\n",
    "                                   epsilon=1e-4,\n",
    "                                   mode='min')\n",
    "\n",
    "model.compile(loss='mean_absolute_error', optimizer= adam(lr=1e-4), metrics=['mean_absolute_error'])\n",
    "model.summary()"
   ]
  },
  {
   "cell_type": "markdown",
   "metadata": {},
   "source": [
    "# 3. Train Model"
   ]
  },
  {
   "cell_type": "code",
   "execution_count": 23,
   "metadata": {},
   "outputs": [],
   "source": [
    "liveplot = LossPlot()"
   ]
  },
  {
   "cell_type": "code",
   "execution_count": 24,
   "metadata": {},
   "outputs": [
    {
     "data": {
      "image/png": "[encoded data removed]",
      "text/plain": [
       "<Figure size 432x288 with 1 Axes>"
      ]
     },
     "metadata": {},
     "output_type": "display_data"
    },
    {
     "data": {
      "text/plain": [
       "<keras.callbacks.History at 0x1f3806bdeb8>"
      ]
     },
     "execution_count": 24,
     "metadata": {},
     "output_type": "execute_result"
    }
   ],
   "source": [
    "model.fit(X_train, \n",
    "        y_train,\n",
    "        batch_size= 16,\n",
    "        epochs= 100, \n",
    "        validation_data= (X_val, y_val),\n",
    "        callbacks=[earlyStopping, mcp_save, reduce_lr_loss, liveplot],\n",
    "        verbose=0\n",
    "         )"
   ]
  },
  {
   "cell_type": "markdown",
   "metadata": {},
   "source": [
    "# 4. Evaluate Model"
   ]
  },
  {
   "cell_type": "markdown",
   "metadata": {},
   "source": [
    "## A. MAE Scores"
   ]
  },
  {
   "cell_type": "code",
   "execution_count": 25,
   "metadata": {},
   "outputs": [
    {
     "name": "stdout",
     "output_type": "stream",
     "text": [
      "Train MAE: 1.9998\n",
      "Validation MAE: 2.2649\n"
     ]
    }
   ],
   "source": [
    "train_mae = model.evaluate(X_train, y_train, verbose=0)\n",
    "val_mae = model.evaluate(X_val, y_val, verbose=0)\n",
    "\n",
    "print('Train MAE: %.4f' % train_mae[0])\n",
    "print('Validation MAE: %.4f' % val_mae[0])"
   ]
  },
  {
   "cell_type": "markdown",
   "metadata": {},
   "source": [
    "## B. Predictions vs Targets"
   ]
  },
  {
   "cell_type": "code",
   "execution_count": 26,
   "metadata": {},
   "outputs": [],
   "source": [
    "y_pred = model.predict(X_val)"
   ]
  },
  {
   "cell_type": "code",
   "execution_count": 27,
   "metadata": {},
   "outputs": [
    {
     "data": {
      "image/png": "[encoded data removed]",
      "text/plain": [
       "<Figure size 432x432 with 1 Axes>"
      ]
     },
     "metadata": {},
     "output_type": "display_data"
    }
   ],
   "source": [
    "plt.figure(figsize=(6, 6))\n",
    "plt.scatter(y_val, y_pred)\n",
    "plt.xlim(0, 20)\n",
    "plt.ylim(0, 20)\n",
    "plt.xlabel('actual', fontsize=12)\n",
    "plt.ylabel('predicted', fontsize=12)\n",
    "plt.plot([(0, 0), (20, 20)], [(0, 0), (20, 20)])\n",
    "plt.show()"
   ]
  },
  {
   "cell_type": "markdown",
   "metadata": {},
   "source": [
    "## C. Save Test Submission"
   ]
  },
  {
   "cell_type": "code",
   "execution_count": 29,
   "metadata": {},
   "outputs": [
    {
     "name": "stdout",
     "output_type": "stream",
     "text": [
      "Submission saved to disk: submissions/Step5_submission2.csv\n"
     ]
    }
   ],
   "source": [
    "X_test = []\n",
    "segment_ids = []\n",
    "for seg_id, X_test_i in X_test_dict.items():\n",
    "    X_test.append(X_test_i)\n",
    "    segment_ids.append(seg_id)\n",
    "\n",
    "X_test = np.asarray(X_test)\n",
    "y_test_pred = np.squeeze(model.predict(X_test)).tolist()\n",
    "\n",
    "prediction_dict = {seg_id:pred for seg_id, pred in zip(segment_ids, y_test_pred)}\n",
    "save_submission(prediction_dict, 'Step5_submission2')"
   ]
  },
  {
   "cell_type": "markdown",
   "metadata": {},
   "source": [
    "# =============================================================\n",
    "# ====================== Experiment 3 ===========================\n",
    "# ============================================================="
   ]
  },
  {
   "cell_type": "markdown",
   "metadata": {},
   "source": [
    "Slicing the training set (3305 samples, WITH failures).\n",
    "\n",
    "Random splitting the validation set (1000 samples, no failures)."
   ]
  },
  {
   "cell_type": "markdown",
   "metadata": {},
   "source": [
    "# 1. Load Dataset"
   ]
  },
  {
   "cell_type": "code",
   "execution_count": 10,
   "metadata": {
    "scrolled": true
   },
   "outputs": [
    {
     "name": "stdout",
     "output_type": "stream",
     "text": [
      "Reading training set...\n",
      "Reading testing set...\n",
      "Splitting training & validation...\n",
      "Sampling sequences...\n",
      "Normalizing...\n",
      "Done.\n",
      "-------------\n",
      "(3305, 150000, 1)\n",
      "(3305,)\n",
      "(1000, 150000, 1)\n",
      "(1000,)\n",
      "Number of test files: 2624\n"
     ]
    }
   ],
   "source": [
    "data_dir = '../Data/LANL_Earthquake_prediction/'\n",
    "method = 'slicing' # 'slicing', 'random'\n",
    "n = 5000\n",
    "seq_len = 150000\n",
    "X_train, y_train, X_val, y_val, X_test_dict, X_train_moment = get_LANL_data(data_dir, method, n)\n",
    "print('-------------')\n",
    "print(X_train.shape)\n",
    "print(y_train.shape)\n",
    "print(X_val.shape)\n",
    "print(y_val.shape)\n",
    "print('Number of test files: %d' % len(X_test_dict))"
   ]
  },
  {
   "cell_type": "markdown",
   "metadata": {},
   "source": [
    "# 2. Build Model"
   ]
  },
  {
   "cell_type": "code",
   "execution_count": 11,
   "metadata": {
    "scrolled": false
   },
   "outputs": [
    {
     "name": "stdout",
     "output_type": "stream",
     "text": [
      "_________________________________________________________________\n",
      "Layer (type)                 Output Shape              Param #   \n",
      "=================================================================\n",
      "conv1d_3 (Conv1D)            (None, 149991, 32)        352       \n",
      "_________________________________________________________________\n",
      "max_pooling1d_2 (MaxPooling1 (None, 1499, 32)          0         \n",
      "_________________________________________________________________\n",
      "conv1d_4 (Conv1D)            (None, 1490, 64)          20544     \n",
      "_________________________________________________________________\n",
      "global_average_pooling1d_2 ( (None, 64)                0         \n",
      "_________________________________________________________________\n",
      "dense_3 (Dense)              (None, 16)                1040      \n",
      "_________________________________________________________________\n",
      "dense_4 (Dense)              (None, 1)                 17        \n",
      "=================================================================\n",
      "Total params: 21,953\n",
      "Trainable params: 21,953\n",
      "Non-trainable params: 0\n",
      "_________________________________________________________________\n"
     ]
    }
   ],
   "source": [
    "model = Sequential()\n",
    "\n",
    "# Conv 1\n",
    "model.add(Conv1D(32, 10, activation='relu', input_shape=(seq_len, 1)))\n",
    "\n",
    "# Max Pooling\n",
    "model.add(MaxPooling1D(100))\n",
    "\n",
    "# Conv 3\n",
    "model.add(Conv1D(64, 10, activation='relu'))\n",
    "\n",
    "# Average Pooling\n",
    "model.add(GlobalAveragePooling1D())\n",
    "\n",
    "model.add(Dense(16, kernel_initializer='normal',activation='relu'))\n",
    "# Output Layer\n",
    "model.add(Dense(1, kernel_initializer='normal',activation='linear'))\n",
    "\n",
    "earlyStopping = EarlyStopping(monitor='val_loss',\n",
    "                              patience=10,\n",
    "                              verbose=0,\n",
    "                              mode='min')\n",
    "mcp_save = ModelCheckpoint('.mdl_wts.hdf5',\n",
    "                           save_best_only=True,\n",
    "                           monitor='val_loss',\n",
    "                           mode='min')\n",
    "reduce_lr_loss = ReduceLROnPlateau(monitor='val_loss',\n",
    "                                   factor=0.1,\n",
    "                                   patience=5,\n",
    "                                   verbose=1,\n",
    "                                   epsilon=1e-4,\n",
    "                                   mode='min')\n",
    "\n",
    "model.compile(loss='mean_absolute_error', optimizer= adam(lr=1e-4), metrics=['mean_absolute_error'])\n",
    "model.summary()"
   ]
  },
  {
   "cell_type": "markdown",
   "metadata": {},
   "source": [
    "# 3. Train Model"
   ]
  },
  {
   "cell_type": "code",
   "execution_count": 12,
   "metadata": {},
   "outputs": [],
   "source": [
    "liveplot = LossPlot()"
   ]
  },
  {
   "cell_type": "code",
   "execution_count": 13,
   "metadata": {},
   "outputs": [
    {
     "data": {
      "image/png": "[encoded data removed]",
      "text/plain": [
       "<Figure size 432x288 with 1 Axes>"
      ]
     },
     "metadata": {},
     "output_type": "display_data"
    },
    {
     "data": {
      "text/plain": [
       "<keras.callbacks.History at 0x1f49b8a4b38>"
      ]
     },
     "execution_count": 13,
     "metadata": {},
     "output_type": "execute_result"
    }
   ],
   "source": [
    "model.fit(X_train, \n",
    "        y_train,\n",
    "        batch_size= 16,\n",
    "        epochs= 100, \n",
    "        validation_data= (X_val, y_val),\n",
    "        callbacks=[earlyStopping, mcp_save, reduce_lr_loss, liveplot],\n",
    "        verbose=0\n",
    "         )"
   ]
  },
  {
   "cell_type": "markdown",
   "metadata": {},
   "source": [
    "# 4. Evaluate Model"
   ]
  },
  {
   "cell_type": "markdown",
   "metadata": {},
   "source": [
    "## A. MAE Scores"
   ]
  },
  {
   "cell_type": "code",
   "execution_count": 14,
   "metadata": {},
   "outputs": [
    {
     "name": "stdout",
     "output_type": "stream",
     "text": [
      "Train MAE: 2.0834\n",
      "Validation MAE: 2.4211\n"
     ]
    }
   ],
   "source": [
    "train_mae = model.evaluate(X_train, y_train, verbose=0)\n",
    "val_mae = model.evaluate(X_val, y_val, verbose=0)\n",
    "\n",
    "print('Train MAE: %.4f' % train_mae[0])\n",
    "print('Validation MAE: %.4f' % val_mae[0])"
   ]
  },
  {
   "cell_type": "markdown",
   "metadata": {},
   "source": [
    "## B. Predictions vs Targets"
   ]
  },
  {
   "cell_type": "code",
   "execution_count": 15,
   "metadata": {},
   "outputs": [],
   "source": [
    "y_pred = model.predict(X_val)"
   ]
  },
  {
   "cell_type": "code",
   "execution_count": 16,
   "metadata": {},
   "outputs": [
    {
     "data": {
      "image/png": "[encoded data removed]",
      "text/plain": [
       "<Figure size 432x432 with 1 Axes>"
      ]
     },
     "metadata": {},
     "output_type": "display_data"
    }
   ],
   "source": [
    "plt.figure(figsize=(6, 6))\n",
    "plt.scatter(y_val, y_pred)\n",
    "plt.xlim(0, 20)\n",
    "plt.ylim(0, 20)\n",
    "plt.xlabel('actual', fontsize=12)\n",
    "plt.ylabel('predicted', fontsize=12)\n",
    "plt.plot([(0, 0), (20, 20)], [(0, 0), (20, 20)])\n",
    "plt.show()"
   ]
  },
  {
   "cell_type": "markdown",
   "metadata": {},
   "source": [
    "## C. Save Test Submission"
   ]
  },
  {
   "cell_type": "code",
   "execution_count": 17,
   "metadata": {},
   "outputs": [
    {
     "name": "stdout",
     "output_type": "stream",
     "text": [
      "Submission saved to disk: submissions/Step5_submission.csv\n"
     ]
    }
   ],
   "source": [
    "X_test = []\n",
    "segment_ids = []\n",
    "for seg_id, X_test_i in X_test_dict.items():\n",
    "    X_test.append(X_test_i)\n",
    "    segment_ids.append(seg_id)\n",
    "\n",
    "X_test = np.asarray(X_test)\n",
    "y_test_pred = np.squeeze(model.predict(X_test)).tolist()\n",
    "\n",
    "prediction_dict = {seg_id:pred for seg_id, pred in zip(segment_ids, y_test_pred)}\n",
    "save_submission(prediction_dict, 'Step5_submission')"
   ]
  }
 ],
 "metadata": {
  "kernelspec": {
   "display_name": "Python 3",
   "language": "python",
   "name": "python3"
  },
  "language_info": {
   "codemirror_mode": {
    "name": "ipython",
    "version": 3
   },
   "file_extension": ".py",
   "mimetype": "text/x-python",
   "name": "python",
   "nbconvert_exporter": "python",
   "pygments_lexer": "ipython3",
   "version": "3.6.6"
  }
 },
 "nbformat": 4,
 "nbformat_minor": 2
}
