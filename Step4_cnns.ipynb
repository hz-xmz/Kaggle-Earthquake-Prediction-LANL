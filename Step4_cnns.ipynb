{
 "cells": [
  {
   "cell_type": "code",
   "execution_count": 1,
   "metadata": {},
   "outputs": [
    {
     "name": "stderr",
     "output_type": "stream",
     "text": [
      "Using TensorFlow backend.\n"
     ]
    }
   ],
   "source": [
    "import pandas as pd\n",
    "import numpy as np\n",
    "import matplotlib.pyplot as plt\n",
    "import dask.dataframe as dd\n",
    "import time\n",
    "import os\n",
    "from tqdm import tqdm\n",
    "# import tensorflow as tf\n",
    "# import tf.keras as keras\n",
    "import keras\n",
    "from keras.models import Sequential\n",
    "from keras.layers import Activation, Dense, Dropout, Flatten\n",
    "from keras.layers import Conv1D, MaxPooling2D\n",
    "from keras.optimizers import SGD, Adam\n",
    "from keras.layers.normalization import BatchNormalization\n",
    "from keras import metrics\n",
    "\n",
    "from DataPreparation.dataset_preparation import get_LANL_dataset\n",
    "from Utilities.evaluation_utils import save_submission\n",
    "\n",
    "%matplotlib inline\n",
    "%load_ext autoreload\n",
    "%autoreload 2"
   ]
  },
  {
   "cell_type": "code",
   "execution_count": 2,
   "metadata": {},
   "outputs": [],
   "source": [
    "data_dir = '../Data/LANL_Earthquake_prediction/'\n",
    "validation_split = 0.2\n",
    "numpy = True\n",
    "normalize = True\n",
    "verbose= True"
   ]
  },
  {
   "cell_type": "code",
   "execution_count": 3,
   "metadata": {
    "scrolled": true
   },
   "outputs": [
    {
     "name": "stdout",
     "output_type": "stream",
     "text": [
      "Dask dataframes loaded.\n",
      "Preprocessing...\n",
      "Converting to numpy...\n",
      "Done.\n",
      "\n",
      "----- Dataset Description -----\n",
      "X_train size: 503316384\n",
      "X_val size: 125829096\n",
      "test_dict size: 2624\n",
      "-------------------------------\n"
     ]
    }
   ],
   "source": [
    "data, X_train_moments = get_LANL_dataset(data_dir, validation_split, numpy, normalize)\n",
    "if numpy:\n",
    "    X_train = data['X_train']\n",
    "    y_train = data['y_train']\n",
    "    X_val = data['X_val']\n",
    "    y_val = data['y_val']\n",
    "    test_dict = data['test_dict']\n",
    "    if verbose:\n",
    "        print('')\n",
    "        print('----- Dataset Description -----')\n",
    "        print('X_train size: %d' % len(X_train))\n",
    "        print('X_val size: %d' % len(X_val))\n",
    "        print('test_dict size: %d' % len(test_dict))\n",
    "        print('-------------------------------')\n",
    "else:\n",
    "    train_df = data['train_df']\n",
    "    val_df = data['val_df']\n",
    "    test_dict = data['test_dict']\n",
    "    if verbose:\n",
    "        print('')\n",
    "        print('----- Dataset Description -----')\n",
    "        print('train_df:')\n",
    "        print(train_df.count().compute())\n",
    "        print('-----------')\n",
    "        print('val_df:')\n",
    "        print(val_df.count().compute())\n",
    "        print('-----------')\n",
    "        print('test_dict size: %d' % len(test_dict))\n",
    "        print('-------------------------------')"
   ]
  },
  {
   "cell_type": "code",
   "execution_count": 4,
   "metadata": {},
   "outputs": [],
   "source": [
    "X_merged = np.hstack([X_train, X_val])\n",
    "y_merged = np.hstack([y_train, y_val])\n",
    "\n",
    "seq_len = 150000\n",
    "earthquake_ind = [0, 5656574, 50085878, 104677356,\n",
    "                  138772453, 187641820, 218652630, 245829585,\n",
    "                  307838917, 338276287, 375377848, 419368880,\n",
    "                  461811623, 495800225, 528777115, 585568144,\n",
    "                  621985673]\n",
    "earthquake_ind = np.asarray(earthquake_ind)"
   ]
  },
  {
   "cell_type": "code",
   "execution_count": 5,
   "metadata": {},
   "outputs": [],
   "source": [
    "len_train_total = 629145480"
   ]
  },
  {
   "cell_type": "code",
   "execution_count": 6,
   "metadata": {},
   "outputs": [],
   "source": [
    "from random import randint, choice\n",
    "val_eq_ind = np.hstack([earthquake_ind[-4:], len_train_total])\n",
    "val_eq_ind -= np.min(val_eq_ind)\n",
    "train_eq_ind = earthquake_ind[:-4]\n",
    "\n",
    "val_slicing_ranges = [(val_eq_ind[i], (val_eq_ind[i+1]-seq_len)) for i in range(len(val_eq_ind)-1)]\n",
    "train_slicing_ranges = [(train_eq_ind[i], (train_eq_ind[i+1]-seq_len)) for i in range(len(train_eq_ind)-1)]\n",
    "\n",
    "def uniform_from_slices(slices, n):\n",
    "    out = []\n",
    "    for _ in range(n):\n",
    "        r = choice(slices)\n",
    "        out.append(randint(*r))\n",
    "    return out\n",
    "        \n",
    "# print(uniform_from_slices(val_slicing_ranges, 5))\n",
    "# print(uniform_from_slices(train_slicing_ranges, 5))"
   ]
  },
  {
   "cell_type": "code",
   "execution_count": 7,
   "metadata": {},
   "outputs": [],
   "source": [
    "X_train = X_merged[:earthquake_ind[-4]]\n",
    "X_val = X_merged[earthquake_ind[-4]:]\n",
    "\n",
    "y_train = y_merged[:earthquake_ind[-4]]\n",
    "y_val = y_merged[earthquake_ind[-4]:]"
   ]
  },
  {
   "cell_type": "code",
   "execution_count": 8,
   "metadata": {},
   "outputs": [],
   "source": [
    "# print(val_slicing_ranges)\n",
    "# print(len(X_val))\n",
    "# print(train_slicing_ranges)\n",
    "# print(len(X_train))"
   ]
  },
  {
   "cell_type": "code",
   "execution_count": 9,
   "metadata": {},
   "outputs": [],
   "source": [
    "train_sample_size = 40000 # 3355\n",
    "train_sample_ind = uniform_from_slices(train_slicing_ranges, train_sample_size)\n",
    "\n",
    "val_sample_size = 1000 # 838\n",
    "val_sample_ind = uniform_from_slices(val_slicing_ranges, val_sample_size)"
   ]
  },
  {
   "cell_type": "code",
   "execution_count": 10,
   "metadata": {},
   "outputs": [],
   "source": [
    "# print(train_sample_ind[:20])"
   ]
  },
  {
   "cell_type": "code",
   "execution_count": 11,
   "metadata": {},
   "outputs": [],
   "source": [
    "def sample_sequences(x, y, indices, seq_len):\n",
    "    num_samples = len(indices)\n",
    "    x_ = np.zeros((num_samples, seq_len))\n",
    "    y_ = np.zeros(num_samples)\n",
    "    for i, ind in enumerate(indices):\n",
    "        x_[i, :] = x[ind:ind+seq_len]\n",
    "        y_[i] = y[ind+seq_len-1]\n",
    "    return x_, y_\n",
    "\n",
    "X_val_, y_val_ = sample_sequences(X_val, y_val, val_sample_ind, seq_len)\n",
    "X_train_, y_train_ = sample_sequences(X_train, y_train, train_sample_ind, seq_len)"
   ]
  },
  {
   "cell_type": "code",
   "execution_count": 12,
   "metadata": {},
   "outputs": [],
   "source": [
    "X_train = X_train_[:,:,None]\n",
    "y_train = y_train_\n",
    "# X_train = X_train[:int(np.floor(X_train.shape[0] / seq_len))*seq_len]\n",
    "# y_train = y_train[:int(np.floor(y_train.shape[0] / seq_len))*seq_len]\n",
    "# X_train= X_train.reshape((-1, seq_len, 1))\n",
    "# print(X_train.shape)\n",
    "# y_train = y_train[seq_len-1::seq_len]\n",
    "# print(y_train.shape)\n",
    "\n",
    "X_val = X_val_[:,:,None]\n",
    "y_val = y_val_"
   ]
  },
  {
   "cell_type": "code",
   "execution_count": null,
   "metadata": {},
   "outputs": [],
   "source": [
    "# del X_train_, y_train_\n",
    "# del X_val_, y_val_\n",
    "# del X_merged, y_merged"
   ]
  },
  {
   "cell_type": "code",
   "execution_count": 13,
   "metadata": {},
   "outputs": [],
   "source": [
    "# print(np.random.choice(y_train, 20))\n",
    "# print(y_train_[:20])\n",
    "# print(X_train_.shape)"
   ]
  },
  {
   "cell_type": "code",
   "execution_count": null,
   "metadata": {},
   "outputs": [],
   "source": []
  },
  {
   "cell_type": "code",
   "execution_count": 20,
   "metadata": {},
   "outputs": [
    {
     "name": "stdout",
     "output_type": "stream",
     "text": [
      "(3355, 150000, 1)\n",
      "(3355,)\n"
     ]
    }
   ],
   "source": [
    "# # N_ROWS = 5e6\n",
    "# # data_dir = '../Data/LANL_Earthquake_prediction/'\n",
    "\n",
    "# # train = pd.read_csv(data_dir+'trainset/train_split_0.2.csv',        \n",
    "# #                 #nrows= N_ROWS, \n",
    "# #                 dtype={'acoustic_data': np.int16, 'time_to_failure': np.float64})\n",
    "# # print('Train input completed')\n",
    "\n",
    "# # X_train = train['acoustic_data']\n",
    "# # y_train = train['time_to_failure']\n",
    "\n",
    "# # del train\n",
    "# # print(X_train.shape)\n",
    "# # Cut training data\n",
    "# rows = 150000\n",
    "# X_train = X_train[:int(np.floor(X_train.shape[0] / rows))*rows]\n",
    "# y_train = y_train[:int(np.floor(y_train.shape[0] / rows))*rows]\n",
    "# X_train= X_train.reshape((-1, rows, 1))\n",
    "# print(X_train.shape)\n",
    "\n",
    "# y_train = y_train[rows-1::rows]\n",
    "# print(y_train.shape)\n",
    "\n",
    "# # Training/ Vaidation Split\n",
    "# # X_train, X_val, y_train, y_val = train_test_split(X_train,\n",
    "# #                                                 y_train,\n",
    "# #                                                 test_size= 0.2,\n",
    "# #                                                 random_state= 11)"
   ]
  },
  {
   "cell_type": "code",
   "execution_count": 15,
   "metadata": {},
   "outputs": [],
   "source": [
    "# # N_ROWS = 5e6\n",
    "# # data_dir = '../Data/LANL_Earthquake_prediction/'\n",
    "\n",
    "# # val = pd.read_csv(data_dir+'trainset/validation_split_0.2.csv',        \n",
    "# #                 #nrows= N_ROWS, \n",
    "# #                 dtype={'acoustic_data': np.int16, 'time_to_failure': np.float64})\n",
    "# # print('Val input completed')\n",
    "\n",
    "# # X_val = val['acoustic_data']\n",
    "# # y_val = val['time_to_failure']\n",
    "\n",
    "# # del val\n",
    "# # print(X_val.shape)\n",
    "# # Cut training data\n",
    "# rows = 150000\n",
    "# X_val = X_val[:int(np.floor(X_val.shape[0] / rows))*rows]\n",
    "# y_val = y_val[:int(np.floor(y_val.shape[0] / rows))*rows]\n",
    "# X_val= X_val.reshape((-1, rows, 1))\n",
    "# y_val = y_val[rows-1::rows]\n",
    "# print(X_val.shape)\n",
    "# print(y_val.shape)"
   ]
  },
  {
   "cell_type": "code",
   "execution_count": 13,
   "metadata": {},
   "outputs": [],
   "source": [
    "rows=seq_len"
   ]
  },
  {
   "cell_type": "code",
   "execution_count": 14,
   "metadata": {},
   "outputs": [],
   "source": [
    "# Model\n",
    "from keras.models import Sequential\n",
    "from keras.layers import Dense, Conv1D, MaxPooling1D, GlobalAveragePooling1D, Dropout\n",
    "from keras.optimizers import adam\n",
    "from keras.callbacks import EarlyStopping, ModelCheckpoint, ReduceLROnPlateau"
   ]
  },
  {
   "cell_type": "code",
   "execution_count": 15,
   "metadata": {},
   "outputs": [
    {
     "name": "stdout",
     "output_type": "stream",
     "text": [
      "WARNING:tensorflow:From D:\\toolkits.win\\anaconda3-5.2.0\\envs\\dlwin36\\lib\\site-packages\\tensorflow\\python\\framework\\op_def_library.py:263: colocate_with (from tensorflow.python.framework.ops) is deprecated and will be removed in a future version.\n",
      "Instructions for updating:\n",
      "Colocations handled automatically by placer.\n"
     ]
    },
    {
     "name": "stderr",
     "output_type": "stream",
     "text": [
      "D:\\toolkits.win\\anaconda3-5.2.0\\envs\\dlwin36\\lib\\site-packages\\keras\\callbacks.py:1065: UserWarning: `epsilon` argument is deprecated and will be removed, use `min_delta` instead.\n",
      "  warnings.warn('`epsilon` argument is deprecated and '\n"
     ]
    },
    {
     "name": "stdout",
     "output_type": "stream",
     "text": [
      "_________________________________________________________________\n",
      "Layer (type)                 Output Shape              Param #   \n",
      "=================================================================\n",
      "conv1d_1 (Conv1D)            (None, 149991, 32)        352       \n",
      "_________________________________________________________________\n",
      "conv1d_2 (Conv1D)            (None, 149982, 32)        10272     \n",
      "_________________________________________________________________\n",
      "conv1d_3 (Conv1D)            (None, 149973, 64)        20544     \n",
      "_________________________________________________________________\n",
      "conv1d_4 (Conv1D)            (None, 149955, 64)        41024     \n",
      "_________________________________________________________________\n",
      "conv1d_5 (Conv1D)            (None, 149919, 64)        41024     \n",
      "_________________________________________________________________\n",
      "conv1d_6 (Conv1D)            (None, 149847, 64)        41024     \n",
      "_________________________________________________________________\n",
      "global_average_pooling1d_1 ( (None, 64)                0         \n",
      "_________________________________________________________________\n",
      "dense_1 (Dense)              (None, 16)                1040      \n",
      "_________________________________________________________________\n",
      "dense_2 (Dense)              (None, 1)                 17        \n",
      "=================================================================\n",
      "Total params: 155,297\n",
      "Trainable params: 155,297\n",
      "Non-trainable params: 0\n",
      "_________________________________________________________________\n"
     ]
    }
   ],
   "source": [
    "model = Sequential()\n",
    "\n",
    "# Conv 1\n",
    "model.add(Conv1D(32, 10, activation='relu', input_shape=(rows, 1)))\n",
    "model.add(Conv1D(32, 10, activation='relu'))\n",
    "\n",
    "# Max Pooling\n",
    "#model.add(MaxPooling1D(100))\n",
    "\n",
    "# Conv 3\n",
    "model.add(Conv1D(64, 10, dilation_rate=1, padding='valid', activation='relu'))\n",
    "model.add(Conv1D(64, 10, dilation_rate=2, padding='valid', activation='relu'))\n",
    "model.add(Conv1D(64, 10, dilation_rate=4, padding='valid', activation='relu'))\n",
    "model.add(Conv1D(64, 10, dilation_rate=8, padding='valid', activation='relu'))\n",
    "\n",
    "# Average Pooling\n",
    "model.add(GlobalAveragePooling1D())\n",
    "\n",
    "model.add(Dense(16, kernel_initializer='normal',activation='relu'))\n",
    "# Output Layer\n",
    "model.add(Dense(1, kernel_initializer='normal',activation='linear'))\n",
    "\n",
    "earlyStopping = EarlyStopping(monitor='val_loss',\n",
    "                              patience=10,\n",
    "                              verbose=0,\n",
    "                              mode='min')\n",
    "mcp_save = ModelCheckpoint('.mdl_wts.hdf5',\n",
    "                           save_best_only=True,\n",
    "                           monitor='val_loss',\n",
    "                           mode='min')\n",
    "reduce_lr_loss = ReduceLROnPlateau(monitor='val_loss',\n",
    "                                   factor=0.1,\n",
    "                                   patience=5,\n",
    "                                   verbose=1,\n",
    "                                   epsilon=1e-4,\n",
    "                                   mode='min')\n",
    "\n",
    "model.compile(loss='mean_absolute_error', optimizer= adam(lr=1e-4), metrics=['mean_absolute_error'])\n",
    "model.summary()"
   ]
  },
  {
   "cell_type": "code",
   "execution_count": 16,
   "metadata": {},
   "outputs": [
    {
     "name": "stdout",
     "output_type": "stream",
     "text": [
      "WARNING:tensorflow:From D:\\toolkits.win\\anaconda3-5.2.0\\envs\\dlwin36\\lib\\site-packages\\tensorflow\\python\\ops\\math_ops.py:3066: to_int32 (from tensorflow.python.ops.math_ops) is deprecated and will be removed in a future version.\n",
      "Instructions for updating:\n",
      "Use tf.cast instead.\n",
      "Train on 40000 samples, validate on 1000 samples\n",
      "Epoch 1/100\n",
      " - 1453s - loss: 2.3950 - mean_absolute_error: 2.3950 - val_loss: 2.5682 - val_mean_absolute_error: 2.5682\n",
      "Epoch 2/100\n",
      " - 1424s - loss: 2.0575 - mean_absolute_error: 2.0575 - val_loss: 2.3985 - val_mean_absolute_error: 2.3985\n",
      "Epoch 3/100\n",
      " - 1422s - loss: 2.0496 - mean_absolute_error: 2.0496 - val_loss: 2.1413 - val_mean_absolute_error: 2.1413\n",
      "Epoch 4/100\n",
      " - 1424s - loss: 2.0440 - mean_absolute_error: 2.0440 - val_loss: 2.1129 - val_mean_absolute_error: 2.1129\n",
      "Epoch 5/100\n",
      " - 1424s - loss: 2.0416 - mean_absolute_error: 2.0416 - val_loss: 2.3240 - val_mean_absolute_error: 2.3240\n",
      "Epoch 6/100\n",
      " - 1424s - loss: 2.0365 - mean_absolute_error: 2.0365 - val_loss: 2.0181 - val_mean_absolute_error: 2.0181\n",
      "Epoch 7/100\n",
      " - 1424s - loss: 2.0346 - mean_absolute_error: 2.0346 - val_loss: 2.5232 - val_mean_absolute_error: 2.5232\n",
      "Epoch 8/100\n"
     ]
    },
    {
     "ename": "KeyboardInterrupt",
     "evalue": "",
     "output_type": "error",
     "traceback": [
      "\u001b[1;31m---------------------------------------------------------------------------\u001b[0m",
      "\u001b[1;31mKeyboardInterrupt\u001b[0m                         Traceback (most recent call last)",
      "\u001b[1;32m<ipython-input-16-ae0288be0a4c>\u001b[0m in \u001b[0;36m<module>\u001b[1;34m()\u001b[0m\n\u001b[0;32m      5\u001b[0m         \u001b[0mvalidation_data\u001b[0m\u001b[1;33m=\u001b[0m \u001b[1;33m(\u001b[0m\u001b[0mX_val\u001b[0m\u001b[1;33m,\u001b[0m \u001b[0my_val\u001b[0m\u001b[1;33m)\u001b[0m\u001b[1;33m,\u001b[0m\u001b[1;33m\u001b[0m\u001b[0m\n\u001b[0;32m      6\u001b[0m         \u001b[0mcallbacks\u001b[0m\u001b[1;33m=\u001b[0m\u001b[1;33m[\u001b[0m\u001b[0mearlyStopping\u001b[0m\u001b[1;33m,\u001b[0m \u001b[0mmcp_save\u001b[0m\u001b[1;33m,\u001b[0m \u001b[0mreduce_lr_loss\u001b[0m\u001b[1;33m]\u001b[0m\u001b[1;33m,\u001b[0m\u001b[1;33m\u001b[0m\u001b[0m\n\u001b[1;32m----> 7\u001b[1;33m         \u001b[0mverbose\u001b[0m\u001b[1;33m=\u001b[0m\u001b[1;36m2\u001b[0m\u001b[1;33m\u001b[0m\u001b[0m\n\u001b[0m\u001b[0;32m      8\u001b[0m          )\n\u001b[0;32m      9\u001b[0m \u001b[1;33m\u001b[0m\u001b[0m\n",
      "\u001b[1;32mD:\\toolkits.win\\anaconda3-5.2.0\\envs\\dlwin36\\lib\\site-packages\\keras\\engine\\training.py\u001b[0m in \u001b[0;36mfit\u001b[1;34m(self, x, y, batch_size, epochs, verbose, callbacks, validation_split, validation_data, shuffle, class_weight, sample_weight, initial_epoch, steps_per_epoch, validation_steps, **kwargs)\u001b[0m\n\u001b[0;32m   1037\u001b[0m                                         \u001b[0minitial_epoch\u001b[0m\u001b[1;33m=\u001b[0m\u001b[0minitial_epoch\u001b[0m\u001b[1;33m,\u001b[0m\u001b[1;33m\u001b[0m\u001b[0m\n\u001b[0;32m   1038\u001b[0m                                         \u001b[0msteps_per_epoch\u001b[0m\u001b[1;33m=\u001b[0m\u001b[0msteps_per_epoch\u001b[0m\u001b[1;33m,\u001b[0m\u001b[1;33m\u001b[0m\u001b[0m\n\u001b[1;32m-> 1039\u001b[1;33m                                         validation_steps=validation_steps)\n\u001b[0m\u001b[0;32m   1040\u001b[0m \u001b[1;33m\u001b[0m\u001b[0m\n\u001b[0;32m   1041\u001b[0m     def evaluate(self, x=None, y=None,\n",
      "\u001b[1;32mD:\\toolkits.win\\anaconda3-5.2.0\\envs\\dlwin36\\lib\\site-packages\\keras\\engine\\training_arrays.py\u001b[0m in \u001b[0;36mfit_loop\u001b[1;34m(model, f, ins, out_labels, batch_size, epochs, verbose, callbacks, val_f, val_ins, shuffle, callback_metrics, initial_epoch, steps_per_epoch, validation_steps)\u001b[0m\n\u001b[0;32m    185\u001b[0m                             ins[:-1], batch_ids) + [ins[-1]]\n\u001b[0;32m    186\u001b[0m                     \u001b[1;32melse\u001b[0m\u001b[1;33m:\u001b[0m\u001b[1;33m\u001b[0m\u001b[0m\n\u001b[1;32m--> 187\u001b[1;33m                         \u001b[0mins_batch\u001b[0m \u001b[1;33m=\u001b[0m \u001b[0mslice_arrays\u001b[0m\u001b[1;33m(\u001b[0m\u001b[0mins\u001b[0m\u001b[1;33m,\u001b[0m \u001b[0mbatch_ids\u001b[0m\u001b[1;33m)\u001b[0m\u001b[1;33m\u001b[0m\u001b[0m\n\u001b[0m\u001b[0;32m    188\u001b[0m                 \u001b[1;32mexcept\u001b[0m \u001b[0mTypeError\u001b[0m\u001b[1;33m:\u001b[0m\u001b[1;33m\u001b[0m\u001b[0m\n\u001b[0;32m    189\u001b[0m                     raise TypeError('TypeError while preparing batch. '\n",
      "\u001b[1;32mD:\\toolkits.win\\anaconda3-5.2.0\\envs\\dlwin36\\lib\\site-packages\\keras\\utils\\generic_utils.py\u001b[0m in \u001b[0;36mslice_arrays\u001b[1;34m(arrays, start, stop)\u001b[0m\n\u001b[0;32m    524\u001b[0m             \u001b[1;32mif\u001b[0m \u001b[0mhasattr\u001b[0m\u001b[1;33m(\u001b[0m\u001b[0mstart\u001b[0m\u001b[1;33m,\u001b[0m \u001b[1;34m'shape'\u001b[0m\u001b[1;33m)\u001b[0m\u001b[1;33m:\u001b[0m\u001b[1;33m\u001b[0m\u001b[0m\n\u001b[0;32m    525\u001b[0m                 \u001b[0mstart\u001b[0m \u001b[1;33m=\u001b[0m \u001b[0mstart\u001b[0m\u001b[1;33m.\u001b[0m\u001b[0mtolist\u001b[0m\u001b[1;33m(\u001b[0m\u001b[1;33m)\u001b[0m\u001b[1;33m\u001b[0m\u001b[0m\n\u001b[1;32m--> 526\u001b[1;33m             \u001b[1;32mreturn\u001b[0m \u001b[1;33m[\u001b[0m\u001b[1;32mNone\u001b[0m \u001b[1;32mif\u001b[0m \u001b[0mx\u001b[0m \u001b[1;32mis\u001b[0m \u001b[1;32mNone\u001b[0m \u001b[1;32melse\u001b[0m \u001b[0mx\u001b[0m\u001b[1;33m[\u001b[0m\u001b[0mstart\u001b[0m\u001b[1;33m]\u001b[0m \u001b[1;32mfor\u001b[0m \u001b[0mx\u001b[0m \u001b[1;32min\u001b[0m \u001b[0marrays\u001b[0m\u001b[1;33m]\u001b[0m\u001b[1;33m\u001b[0m\u001b[0m\n\u001b[0m\u001b[0;32m    527\u001b[0m         \u001b[1;32melse\u001b[0m\u001b[1;33m:\u001b[0m\u001b[1;33m\u001b[0m\u001b[0m\n\u001b[0;32m    528\u001b[0m             \u001b[1;32mreturn\u001b[0m \u001b[1;33m[\u001b[0m\u001b[1;32mNone\u001b[0m \u001b[1;32mif\u001b[0m \u001b[0mx\u001b[0m \u001b[1;32mis\u001b[0m \u001b[1;32mNone\u001b[0m \u001b[1;32melse\u001b[0m \u001b[0mx\u001b[0m\u001b[1;33m[\u001b[0m\u001b[0mstart\u001b[0m\u001b[1;33m:\u001b[0m\u001b[0mstop\u001b[0m\u001b[1;33m]\u001b[0m \u001b[1;32mfor\u001b[0m \u001b[0mx\u001b[0m \u001b[1;32min\u001b[0m \u001b[0marrays\u001b[0m\u001b[1;33m]\u001b[0m\u001b[1;33m\u001b[0m\u001b[0m\n",
      "\u001b[1;32mD:\\toolkits.win\\anaconda3-5.2.0\\envs\\dlwin36\\lib\\site-packages\\keras\\utils\\generic_utils.py\u001b[0m in \u001b[0;36m<listcomp>\u001b[1;34m(.0)\u001b[0m\n\u001b[0;32m    524\u001b[0m             \u001b[1;32mif\u001b[0m \u001b[0mhasattr\u001b[0m\u001b[1;33m(\u001b[0m\u001b[0mstart\u001b[0m\u001b[1;33m,\u001b[0m \u001b[1;34m'shape'\u001b[0m\u001b[1;33m)\u001b[0m\u001b[1;33m:\u001b[0m\u001b[1;33m\u001b[0m\u001b[0m\n\u001b[0;32m    525\u001b[0m                 \u001b[0mstart\u001b[0m \u001b[1;33m=\u001b[0m \u001b[0mstart\u001b[0m\u001b[1;33m.\u001b[0m\u001b[0mtolist\u001b[0m\u001b[1;33m(\u001b[0m\u001b[1;33m)\u001b[0m\u001b[1;33m\u001b[0m\u001b[0m\n\u001b[1;32m--> 526\u001b[1;33m             \u001b[1;32mreturn\u001b[0m \u001b[1;33m[\u001b[0m\u001b[1;32mNone\u001b[0m \u001b[1;32mif\u001b[0m \u001b[0mx\u001b[0m \u001b[1;32mis\u001b[0m \u001b[1;32mNone\u001b[0m \u001b[1;32melse\u001b[0m \u001b[0mx\u001b[0m\u001b[1;33m[\u001b[0m\u001b[0mstart\u001b[0m\u001b[1;33m]\u001b[0m \u001b[1;32mfor\u001b[0m \u001b[0mx\u001b[0m \u001b[1;32min\u001b[0m \u001b[0marrays\u001b[0m\u001b[1;33m]\u001b[0m\u001b[1;33m\u001b[0m\u001b[0m\n\u001b[0m\u001b[0;32m    527\u001b[0m         \u001b[1;32melse\u001b[0m\u001b[1;33m:\u001b[0m\u001b[1;33m\u001b[0m\u001b[0m\n\u001b[0;32m    528\u001b[0m             \u001b[1;32mreturn\u001b[0m \u001b[1;33m[\u001b[0m\u001b[1;32mNone\u001b[0m \u001b[1;32mif\u001b[0m \u001b[0mx\u001b[0m \u001b[1;32mis\u001b[0m \u001b[1;32mNone\u001b[0m \u001b[1;32melse\u001b[0m \u001b[0mx\u001b[0m\u001b[1;33m[\u001b[0m\u001b[0mstart\u001b[0m\u001b[1;33m:\u001b[0m\u001b[0mstop\u001b[0m\u001b[1;33m]\u001b[0m \u001b[1;32mfor\u001b[0m \u001b[0mx\u001b[0m \u001b[1;32min\u001b[0m \u001b[0marrays\u001b[0m\u001b[1;33m]\u001b[0m\u001b[1;33m\u001b[0m\u001b[0m\n",
      "\u001b[1;31mKeyboardInterrupt\u001b[0m: "
     ]
    }
   ],
   "source": [
    "model.fit(X_train, \n",
    "        y_train,\n",
    "        batch_size= 16,\n",
    "        epochs= 100, \n",
    "        validation_data= (X_val, y_val),\n",
    "        callbacks=[earlyStopping, mcp_save, reduce_lr_loss],\n",
    "        verbose=2\n",
    "         )\n",
    "\n",
    "\n",
    "y_pred = model.predict(X_val)"
   ]
  },
  {
   "cell_type": "code",
   "execution_count": 30,
   "metadata": {},
   "outputs": [
    {
     "data": {
      "image/png": "[encoded data removed]",
      "text/plain": [
       "<Figure size 432x432 with 1 Axes>"
      ]
     },
     "metadata": {},
     "output_type": "display_data"
    }
   ],
   "source": [
    "# Plot\n",
    "plt.figure(figsize=(6, 6))\n",
    "plt.scatter(y_val, y_pred)\n",
    "plt.xlim(0, 20)\n",
    "plt.ylim(0, 20)\n",
    "plt.xlabel('actual', fontsize=12)\n",
    "plt.ylabel('predicted', fontsize=12)\n",
    "plt.plot([(0, 0), (20, 20)], [(0, 0), (20, 20)])\n",
    "plt.show()"
   ]
  },
  {
   "cell_type": "code",
   "execution_count": 31,
   "metadata": {},
   "outputs": [
    {
     "name": "stdout",
     "output_type": "stream",
     "text": [
      "1000/1000 [==============================] - 12s 12ms/step\n"
     ]
    },
    {
     "data": {
      "text/plain": [
       "[1.9168879528045655, 1.9168879528045655]"
      ]
     },
     "execution_count": 31,
     "metadata": {},
     "output_type": "execute_result"
    }
   ],
   "source": [
    "model.evaluate(X_val, y_val)"
   ]
  },
  {
   "cell_type": "code",
   "execution_count": 22,
   "metadata": {},
   "outputs": [
    {
     "ename": "NameError",
     "evalue": "name 'mean_absolute_error' is not defined",
     "output_type": "error",
     "traceback": [
      "\u001b[1;31m---------------------------------------------------------------------------\u001b[0m",
      "\u001b[1;31mNameError\u001b[0m                                 Traceback (most recent call last)",
      "\u001b[1;32m<ipython-input-22-4af0c1cad006>\u001b[0m in \u001b[0;36m<module>\u001b[1;34m()\u001b[0m\n\u001b[0;32m      1\u001b[0m \u001b[1;31m# training Score\u001b[0m\u001b[1;33m\u001b[0m\u001b[1;33m\u001b[0m\u001b[0m\n\u001b[1;32m----> 2\u001b[1;33m \u001b[0mscore\u001b[0m \u001b[1;33m=\u001b[0m \u001b[0mmean_absolute_error\u001b[0m\u001b[1;33m(\u001b[0m\u001b[0my_val\u001b[0m\u001b[1;33m.\u001b[0m\u001b[0mflatten\u001b[0m\u001b[1;33m(\u001b[0m\u001b[1;33m)\u001b[0m\u001b[1;33m,\u001b[0m \u001b[0my_pred\u001b[0m\u001b[1;33m)\u001b[0m\u001b[1;33m\u001b[0m\u001b[0m\n\u001b[0m\u001b[0;32m      3\u001b[0m \u001b[0mprint\u001b[0m\u001b[1;33m(\u001b[0m\u001b[1;34mf'Score: {score:0.3f}'\u001b[0m\u001b[1;33m)\u001b[0m\u001b[1;33m\u001b[0m\u001b[0m\n",
      "\u001b[1;31mNameError\u001b[0m: name 'mean_absolute_error' is not defined"
     ]
    }
   ],
   "source": [
    "# training Score\n",
    "score = mean_absolute_error(y_val.flatten(), y_pred)\n",
    "print(f'Score: {score:0.3f}')"
   ]
  },
  {
   "cell_type": "code",
   "execution_count": 32,
   "metadata": {},
   "outputs": [],
   "source": [
    "(X_train_mean, X_train_std) = X_train_moments"
   ]
  },
  {
   "cell_type": "code",
   "execution_count": 37,
   "metadata": {},
   "outputs": [
    {
     "name": "stderr",
     "output_type": "stream",
     "text": [
      "100%|██████████████████████████████████████████████████████████████████████████████| 2624/2624 [00:53<00:00, 49.50it/s]\n"
     ]
    },
    {
     "name": "stdout",
     "output_type": "stream",
     "text": [
      "(393600000, 1)\n",
      "(2624, 150000, 1)\n"
     ]
    }
   ],
   "source": [
    "# Submission\n",
    "submission = pd.read_csv(data_dir+'sample_submission.csv', index_col='seg_id')\n",
    "\n",
    "X_test = []\n",
    "\n",
    "for segment in tqdm(submission.index):\n",
    "        seg = pd.read_csv(data_dir+'testset/' + segment + '.csv')\n",
    "        x = pd.Series(seg['acoustic_data'].values)\n",
    "        X_test.append(x)\n",
    "\n",
    "X_test = (np.asarray(X_test) - X_train_mean)/ X_train_std\n",
    "X_test = X_test.reshape((-1, 1))\n",
    "print(X_test.shape)\n",
    "X_test = X_test[:int(np.floor(X_test.shape[0] / rows))*rows]\n",
    "X_test= X_test.reshape((-1, rows, 1))\n",
    "print(X_test.shape)\n",
    "submission['time_to_failure'] = model.predict(X_test)\n",
    "submission.to_csv('submissions/sample_wavenet_submission_1.91.csv')"
   ]
  },
  {
   "cell_type": "code",
   "execution_count": null,
   "metadata": {},
   "outputs": [],
   "source": [
    "#You advanced 335 places on the leaderboard!\n",
    "\n",
    "# Your submission scored 1.747, which is an improvement of your previous score of 2.737. Great job!"
   ]
  }
 ],
 "metadata": {
  "kernelspec": {
   "display_name": "Python 3",
   "language": "python",
   "name": "python3"
  },
  "language_info": {
   "codemirror_mode": {
    "name": "ipython",
    "version": 3
   },
   "file_extension": ".py",
   "mimetype": "text/x-python",
   "name": "python",
   "nbconvert_exporter": "python",
   "pygments_lexer": "ipython3",
   "version": "3.6.6"
  }
 },
 "nbformat": 4,
 "nbformat_minor": 2
}
