{
 "cells": [
  {
   "cell_type": "code",
   "execution_count": 1,
   "metadata": {},
   "outputs": [],
   "source": [
    "import numpy as np # linear algebra\n",
    "import pandas as pd # data processing, CSV file I/O (e.g. pd.read_csv)\n",
    "pd.options.display.precision = 15\n",
    "import os\n",
    "\n",
    "import matplotlib.pyplot as plt\n",
    "from tqdm import tqdm\n",
    "from sklearn.preprocessing import StandardScaler\n",
    "from sklearn.linear_model import LinearRegression\n",
    "from sklearn.metrics import mean_absolute_error\n",
    "from sklearn.model_selection import train_test_split\n",
    "\n",
    "from scipy.signal import hilbert\n",
    "from scipy.signal import hann\n",
    "from scipy.signal import convolve\n",
    "from scipy import stats\n",
    "from sklearn.kernel_ridge import KernelRidge\n",
    "import warnings\n",
    "warnings.filterwarnings(\"ignore\")"
   ]
  },
  {
   "cell_type": "code",
   "execution_count": 2,
   "metadata": {},
   "outputs": [
    {
     "name": "stdout",
     "output_type": "stream",
     "text": [
      "Train input completed\n",
      "(503316384,)\n",
      "(3355, 150000, 1)\n",
      "(3355,)\n"
     ]
    }
   ],
   "source": [
    "N_ROWS = 5e6\n",
    "data_dir = '../Data/LANL_Earthquake_prediction/'\n",
    "\n",
    "train = pd.read_csv(data_dir+'trainset/train_split_0.2.csv',        \n",
    "                #nrows= N_ROWS, \n",
    "                dtype={'acoustic_data': np.int16, 'time_to_failure': np.float64})\n",
    "print('Train input completed')\n",
    "\n",
    "X_train = train['acoustic_data']\n",
    "y_train = train['time_to_failure']\n",
    "\n",
    "del train\n",
    "print(X_train.shape)\n",
    "# Cut training data\n",
    "rows = 150000\n",
    "X_train = X_train[:int(np.floor(X_train.shape[0] / rows))*rows]\n",
    "y_train = y_train[:int(np.floor(y_train.shape[0] / rows))*rows]\n",
    "X_train= X_train.values.reshape((-1, rows, 1))\n",
    "print(X_train.shape)\n",
    "\n",
    "y_train = y_train[rows-1::rows].values\n",
    "print(y_train.shape)\n",
    "\n",
    "# Training/ Vaidation Split\n",
    "# X_train, X_val, y_train, y_val = train_test_split(X_train,\n",
    "#                                                 y_train,\n",
    "#                                                 test_size= 0.2,\n",
    "#                                                 random_state= 11)"
   ]
  },
  {
   "cell_type": "code",
   "execution_count": 3,
   "metadata": {},
   "outputs": [
    {
     "name": "stdout",
     "output_type": "stream",
     "text": [
      "Val input completed\n",
      "(125829096,)\n",
      "(838, 150000, 1)\n",
      "(838,)\n"
     ]
    }
   ],
   "source": [
    "N_ROWS = 5e6\n",
    "data_dir = '../Data/LANL_Earthquake_prediction/'\n",
    "\n",
    "val = pd.read_csv(data_dir+'trainset/validation_split_0.2.csv',        \n",
    "                #nrows= N_ROWS, \n",
    "                dtype={'acoustic_data': np.int16, 'time_to_failure': np.float64})\n",
    "print('Val input completed')\n",
    "\n",
    "X_val = val['acoustic_data']\n",
    "y_val = val['time_to_failure']\n",
    "\n",
    "del val\n",
    "print(X_val.shape)\n",
    "# Cut training data\n",
    "rows = 150000\n",
    "X_val = X_val[:int(np.floor(X_val.shape[0] / rows))*rows]\n",
    "y_val = y_val[:int(np.floor(y_val.shape[0] / rows))*rows]\n",
    "X_val= X_val.values.reshape((-1, rows, 1))\n",
    "y_val = y_val[rows-1::rows].values\n",
    "print(X_val.shape)\n",
    "print(y_val.shape)"
   ]
  },
  {
   "cell_type": "code",
   "execution_count": 4,
   "metadata": {},
   "outputs": [
    {
     "name": "stderr",
     "output_type": "stream",
     "text": [
      "Using TensorFlow backend.\n"
     ]
    }
   ],
   "source": [
    "# Model\n",
    "from keras.models import Sequential\n",
    "from keras.layers import Dense, Conv1D, MaxPooling1D, GlobalAveragePooling1D, Dropout\n",
    "from keras.optimizers import adam\n",
    "from keras.callbacks import EarlyStopping, ModelCheckpoint, ReduceLROnPlateau"
   ]
  },
  {
   "cell_type": "code",
   "execution_count": 5,
   "metadata": {},
   "outputs": [
    {
     "name": "stdout",
     "output_type": "stream",
     "text": [
      "WARNING:tensorflow:From D:\\toolkits.win\\anaconda3-5.2.0\\envs\\dlwin36\\lib\\site-packages\\tensorflow\\python\\framework\\op_def_library.py:263: colocate_with (from tensorflow.python.framework.ops) is deprecated and will be removed in a future version.\n",
      "Instructions for updating:\n",
      "Colocations handled automatically by placer.\n",
      "_________________________________________________________________\n",
      "Layer (type)                 Output Shape              Param #   \n",
      "=================================================================\n",
      "conv1d_1 (Conv1D)            (None, 149991, 32)        352       \n",
      "_________________________________________________________________\n",
      "max_pooling1d_1 (MaxPooling1 (None, 1499, 32)          0         \n",
      "_________________________________________________________________\n",
      "conv1d_2 (Conv1D)            (None, 1490, 64)          20544     \n",
      "_________________________________________________________________\n",
      "global_average_pooling1d_1 ( (None, 64)                0         \n",
      "_________________________________________________________________\n",
      "dense_1 (Dense)              (None, 16)                1040      \n",
      "_________________________________________________________________\n",
      "dense_2 (Dense)              (None, 1)                 17        \n",
      "=================================================================\n",
      "Total params: 21,953\n",
      "Trainable params: 21,953\n",
      "Non-trainable params: 0\n",
      "_________________________________________________________________\n"
     ]
    }
   ],
   "source": [
    "model = Sequential()\n",
    "\n",
    "# Conv 1\n",
    "model.add(Conv1D(32, 10, activation='relu', input_shape=(rows, 1)))\n",
    "\n",
    "# Max Pooling\n",
    "model.add(MaxPooling1D(100))\n",
    "\n",
    "# Conv 3\n",
    "model.add(Conv1D(64, 10, activation='relu'))\n",
    "\n",
    "# Average Pooling\n",
    "model.add(GlobalAveragePooling1D())\n",
    "\n",
    "model.add(Dense(16, kernel_initializer='normal',activation='relu'))\n",
    "# Output Layer\n",
    "model.add(Dense(1, kernel_initializer='normal',activation='linear'))\n",
    "\n",
    "earlyStopping = EarlyStopping(monitor='val_loss',\n",
    "                              patience=10,\n",
    "                              verbose=0,\n",
    "                              mode='min')\n",
    "mcp_save = ModelCheckpoint('.mdl_wts.hdf5',\n",
    "                           save_best_only=True,\n",
    "                           monitor='val_loss',\n",
    "                           mode='min')\n",
    "reduce_lr_loss = ReduceLROnPlateau(monitor='val_loss',\n",
    "                                   factor=0.1,\n",
    "                                   patience=5,\n",
    "                                   verbose=1,\n",
    "                                   epsilon=1e-4,\n",
    "                                   mode='min')\n",
    "\n",
    "model.compile(loss='mean_absolute_error', optimizer= adam(lr=1e-4), metrics=['mean_absolute_error'])\n",
    "model.summary()"
   ]
  },
  {
   "cell_type": "code",
   "execution_count": 6,
   "metadata": {},
   "outputs": [
    {
     "name": "stdout",
     "output_type": "stream",
     "text": [
      "WARNING:tensorflow:From D:\\toolkits.win\\anaconda3-5.2.0\\envs\\dlwin36\\lib\\site-packages\\tensorflow\\python\\ops\\math_ops.py:3066: to_int32 (from tensorflow.python.ops.math_ops) is deprecated and will be removed in a future version.\n",
      "Instructions for updating:\n",
      "Use tf.cast instead.\n",
      "Train on 3355 samples, validate on 838 samples\n",
      "Epoch 1/100\n",
      " - 17s - loss: 4.2341 - mean_absolute_error: 4.2341 - val_loss: 3.7620 - val_mean_absolute_error: 3.7620\n",
      "Epoch 2/100\n",
      " - 15s - loss: 3.4199 - mean_absolute_error: 3.4199 - val_loss: 3.6748 - val_mean_absolute_error: 3.6748\n",
      "Epoch 3/100\n",
      " - 15s - loss: 3.0913 - mean_absolute_error: 3.0913 - val_loss: 3.2267 - val_mean_absolute_error: 3.2267\n",
      "Epoch 4/100\n",
      " - 15s - loss: 2.5520 - mean_absolute_error: 2.5520 - val_loss: 2.8750 - val_mean_absolute_error: 2.8750\n",
      "Epoch 5/100\n",
      " - 15s - loss: 2.2295 - mean_absolute_error: 2.2295 - val_loss: 2.7754 - val_mean_absolute_error: 2.7754\n",
      "Epoch 6/100\n",
      " - 15s - loss: 2.1491 - mean_absolute_error: 2.1491 - val_loss: 2.6844 - val_mean_absolute_error: 2.6844\n",
      "Epoch 7/100\n",
      " - 15s - loss: 2.1461 - mean_absolute_error: 2.1461 - val_loss: 2.6470 - val_mean_absolute_error: 2.6470\n",
      "Epoch 8/100\n",
      " - 15s - loss: 2.1312 - mean_absolute_error: 2.1312 - val_loss: 2.7082 - val_mean_absolute_error: 2.7082\n",
      "Epoch 9/100\n",
      " - 15s - loss: 2.1101 - mean_absolute_error: 2.1101 - val_loss: 2.7111 - val_mean_absolute_error: 2.7111\n",
      "Epoch 10/100\n",
      " - 15s - loss: 2.1116 - mean_absolute_error: 2.1116 - val_loss: 2.7311 - val_mean_absolute_error: 2.7311\n",
      "Epoch 11/100\n",
      " - 15s - loss: 2.1093 - mean_absolute_error: 2.1093 - val_loss: 2.6541 - val_mean_absolute_error: 2.6541\n",
      "Epoch 12/100\n",
      " - 15s - loss: 2.1021 - mean_absolute_error: 2.1021 - val_loss: 2.7163 - val_mean_absolute_error: 2.7163\n",
      "\n",
      "Epoch 00012: ReduceLROnPlateau reducing learning rate to 9.999999747378752e-06.\n",
      "Epoch 13/100\n",
      " - 15s - loss: 2.0934 - mean_absolute_error: 2.0934 - val_loss: 2.6635 - val_mean_absolute_error: 2.6635\n",
      "Epoch 14/100\n",
      " - 15s - loss: 2.0928 - mean_absolute_error: 2.0928 - val_loss: 2.6662 - val_mean_absolute_error: 2.6662\n",
      "Epoch 15/100\n",
      " - 15s - loss: 2.0933 - mean_absolute_error: 2.0933 - val_loss: 2.6825 - val_mean_absolute_error: 2.6825\n",
      "Epoch 16/100\n",
      " - 15s - loss: 2.0909 - mean_absolute_error: 2.0909 - val_loss: 2.6942 - val_mean_absolute_error: 2.6942\n",
      "Epoch 17/100\n",
      " - 15s - loss: 2.0914 - mean_absolute_error: 2.0914 - val_loss: 2.6490 - val_mean_absolute_error: 2.6490\n",
      "\n",
      "Epoch 00017: ReduceLROnPlateau reducing learning rate to 9.999999747378752e-07.\n"
     ]
    }
   ],
   "source": [
    "model.fit(X_train, \n",
    "        y_train,\n",
    "        batch_size= 16,\n",
    "        epochs= 100, \n",
    "        validation_data= (X_val, y_val),\n",
    "        callbacks=[earlyStopping, mcp_save, reduce_lr_loss],\n",
    "        verbose=2\n",
    "         )\n",
    "\n",
    "\n",
    "y_pred = model.predict(X_val)"
   ]
  },
  {
   "cell_type": "code",
   "execution_count": 7,
   "metadata": {},
   "outputs": [
    {
     "data": {
      "image/png": "[encoded data removed]",
      "text/plain": [
       "<Figure size 432x432 with 1 Axes>"
      ]
     },
     "metadata": {},
     "output_type": "display_data"
    }
   ],
   "source": [
    "# Plot\n",
    "plt.figure(figsize=(6, 6))\n",
    "plt.scatter(y_val, y_pred)\n",
    "plt.xlim(0, 20)\n",
    "plt.ylim(0, 20)\n",
    "plt.xlabel('actual', fontsize=12)\n",
    "plt.ylabel('predicted', fontsize=12)\n",
    "plt.plot([(0, 0), (20, 20)], [(0, 0), (20, 20)])\n",
    "plt.show()"
   ]
  },
  {
   "cell_type": "code",
   "execution_count": 10,
   "metadata": {},
   "outputs": [
    {
     "name": "stdout",
     "output_type": "stream",
     "text": [
      "Score: 2.649\n"
     ]
    }
   ],
   "source": [
    "# training Score\n",
    "score = mean_absolute_error(y_val.flatten(), y_pred)\n",
    "print(f'Score: {score:0.3f}')"
   ]
  },
  {
   "cell_type": "code",
   "execution_count": 9,
   "metadata": {},
   "outputs": [
    {
     "name": "stderr",
     "output_type": "stream",
     "text": [
      "100%|██████████████████████████████████████████████████████████████████████████████| 2624/2624 [00:29<00:00, 89.69it/s]\n"
     ]
    },
    {
     "name": "stdout",
     "output_type": "stream",
     "text": [
      "(393600000, 1)\n",
      "(2624, 150000, 1)\n"
     ]
    }
   ],
   "source": [
    "# Submission\n",
    "submission = pd.read_csv(data_dir+'sample_submission.csv', index_col='seg_id')\n",
    "\n",
    "X_test = []\n",
    "\n",
    "for segment in tqdm(submission.index):\n",
    "        seg = pd.read_csv(data_dir+'testset/' + segment + '.csv')\n",
    "        x = pd.Series(seg['acoustic_data'].values)\n",
    "        X_test.append(x)\n",
    "\n",
    "X_test = np.asarray(X_test)\n",
    "X_test = X_test.reshape((-1, 1))\n",
    "print(X_test.shape)\n",
    "X_test = X_test[:int(np.floor(X_test.shape[0] / rows))*rows]\n",
    "X_test= X_test.reshape((-1, rows, 1))\n",
    "print(X_test.shape)\n",
    "submission['time_to_failure'] = model.predict(X_test)\n",
    "submission.to_csv('sample_cnn_submission.csv')"
   ]
  },
  {
   "cell_type": "code",
   "execution_count": null,
   "metadata": {},
   "outputs": [],
   "source": [
    "#You advanced 335 places on the leaderboard!\n",
    "\n",
    "# Your submission scored 1.747, which is an improvement of your previous score of 2.737. Great job!"
   ]
  }
 ],
 "metadata": {
  "kernelspec": {
   "display_name": "Python 3",
   "language": "python",
   "name": "python3"
  },
  "language_info": {
   "codemirror_mode": {
    "name": "ipython",
    "version": 3
   },
   "file_extension": ".py",
   "mimetype": "text/x-python",
   "name": "python",
   "nbconvert_exporter": "python",
   "pygments_lexer": "ipython3",
   "version": "3.6.6"
  }
 },
 "nbformat": 4,
 "nbformat_minor": 2
}
