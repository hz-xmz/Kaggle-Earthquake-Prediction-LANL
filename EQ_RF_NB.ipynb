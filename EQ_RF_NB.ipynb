{
 "cells": [
  {
   "cell_type": "markdown",
   "metadata": {},
   "source": [
    "# Random Forests for LANL Earthquake Prediction"
   ]
  },
  {
   "cell_type": "code",
   "execution_count": 1,
   "metadata": {},
   "outputs": [
    {
     "name": "stderr",
     "output_type": "stream",
     "text": [
      "Using TensorFlow backend.\n"
     ]
    }
   ],
   "source": [
    "from sklearn.model_selection import train_test_split\n",
    "import pandas as pd\n",
    "import numpy as np\n",
    "from keras.models import Sequential\n",
    "from keras.layers import Dense, Activation, Flatten\n",
    "from sklearn.ensemble import RandomForestClassifier\n",
    "from sklearn.metrics import f1_score\n",
    "from sklearn.metrics import accuracy_score\n",
    "from keras.callbacks import ModelCheckpoint\n",
    "from sklearn.metrics import mean_squared_error\n",
    "from sklearn import preprocessing\n",
    "from sklearn import utils\n",
    "import csv"
   ]
  },
  {
   "cell_type": "markdown",
   "metadata": {},
   "source": [
    "### Converting Data to Atrributes ###"
   ]
  },
  {
   "cell_type": "code",
   "execution_count": null,
   "metadata": {},
   "outputs": [],
   "source": [
    "s_deviation = np.empty(0)\n",
    "averages = np.empty(0)\n",
    "minimums = np.empty(0)\n",
    "maximums = np.empty(0)\n",
    "variances = np.empty(0)\n",
    "\n",
    "times = np.empty(0)\n",
    "\n",
    "with open(\"train.csv\") as csv_file:\n",
    "    csv_reader = csv.reader(csv_file, delimiter=',')\n",
    "    line_count = 0\n",
    "    past_time = 0\n",
    "    X = np.empty(0)\n",
    "    for row in csv_reader:\n",
    "        if line_count == 0:\n",
    "            line_count += 1\n",
    "        else:\n",
    "            new_time = int(float(row[1])*1000)\n",
    "            if(past_time != new_time):\n",
    "                past_time = new_time\n",
    "                times = np.append(times,new_time)\n",
    "                if(len(X) > 0):\n",
    "                    s_deviation = np.append(s_deviation, X.std())\n",
    "                    averages = np.append(averages, np.average(X))\n",
    "                    minimums = np.append(minimums, np.min(X))\n",
    "                    maximums = np.append(maximums, np.max(X))\n",
    "                    variances = np.append(variances, np.var(X))\n",
    "\n",
    "                    X = np.empty(0)\n",
    "            else:\n",
    "               X = np.append(X, int(row[0]))\n",
    "            line_count += 1\n",
    "\n",
    "times = times[:len(s_deviation)]\n",
    "\n",
    "print(\"Done Finding Attributes!\")\n",
    "\n",
    "dataset = pd.DataFrame({'s_deviation' : s_deviation, 'averages' : averages, 'minimums' : minimums, 'maximums' : maximums, 'variances' : variances, 'time' : times})\n",
    "\n",
    "del s_deviation,averages,minimums,maximums,variances"
   ]
  },
  {
   "cell_type": "markdown",
   "metadata": {},
   "source": [
    "### Making Training & Test Data ###"
   ]
  },
  {
   "cell_type": "code",
   "execution_count": 4,
   "metadata": {},
   "outputs": [],
   "source": [
    "y = dataset['time']\n",
    "X = dataset.drop(['time'], axis = 1)\n",
    "\n",
    "# Split the dataset to trainand test data\n",
    "\n",
    "train_X, test_X, train_y, test_y = train_test_split(X, y, test_size=0.25, random_state=0)\n",
    "\n",
    "del y,X,dataset\n",
    "\n",
    "print(\"Done Making Training Data!\")"
   ]
  },
  {
   "cell_type": "markdown",
   "metadata": {},
   "source": [
    "### Training and Testing RF Model ### "
   ]
  },
  {
   "cell_type": "code",
   "execution_count": 6,
   "metadata": {},
   "outputs": [
    {
     "ename": "NameError",
     "evalue": "name 'mean_squared_error' is not defined",
     "output_type": "error",
     "traceback": [
      "\u001b[1;31m---------------------------------------------------------------------------\u001b[0m",
      "\u001b[1;31mNameError\u001b[0m                                 Traceback (most recent call last)",
      "\u001b[1;32m<ipython-input-6-97668af11be3>\u001b[0m in \u001b[0;36m<module>\u001b[1;34m\u001b[0m\n\u001b[0;32m     11\u001b[0m \u001b[1;33m\u001b[0m\u001b[0m\n\u001b[0;32m     12\u001b[0m \u001b[0mRF_predictions\u001b[0m \u001b[1;33m=\u001b[0m \u001b[0mRF_model\u001b[0m\u001b[1;33m.\u001b[0m\u001b[0mpredict\u001b[0m\u001b[1;33m(\u001b[0m\u001b[0mtest_X\u001b[0m\u001b[1;33m)\u001b[0m\u001b[1;33m\u001b[0m\u001b[1;33m\u001b[0m\u001b[0m\n\u001b[1;32m---> 13\u001b[1;33m \u001b[0mscore\u001b[0m \u001b[1;33m=\u001b[0m \u001b[0mmean_squared_error\u001b[0m\u001b[1;33m(\u001b[0m\u001b[0mtest_y\u001b[0m\u001b[1;33m,\u001b[0m \u001b[0mRF_predictions\u001b[0m\u001b[1;33m)\u001b[0m\u001b[1;33m\u001b[0m\u001b[1;33m\u001b[0m\u001b[0m\n\u001b[0m\u001b[0;32m     14\u001b[0m \u001b[1;33m\u001b[0m\u001b[0m\n\u001b[0;32m     15\u001b[0m \u001b[0mprint\u001b[0m\u001b[1;33m(\u001b[0m\u001b[0mscore\u001b[0m\u001b[1;33m)\u001b[0m\u001b[1;33m\u001b[0m\u001b[1;33m\u001b[0m\u001b[0m\n",
      "\u001b[1;31mNameError\u001b[0m: name 'mean_squared_error' is not defined"
     ]
    }
   ],
   "source": [
    "parameters = {'bootstrap': True,\n",
    "              'min_samples_leaf': 3,\n",
    "              'n_estimators': 50, \n",
    "              'min_samples_split': 10,\n",
    "              'max_features': 'sqrt',\n",
    "              'max_depth': 6,\n",
    "              'max_leaf_nodes': None}\n",
    "\n",
    "RF_model = RandomForestClassifier(**parameters)\n",
    "RF_model.fit(train_X, train_y)\n",
    "\n",
    "print(\"Done Training! Testing Now...\")\n",
    "\n",
    "RF_predictions = RF_model.predict(test_X)\n",
    "\n",
    "test_y = np.array(test_y)\n",
    "\n",
    "for i in range(len(test_y)):\n",
    "    test_y[i] = test_y[i]/1000.0\n",
    "    RF_predictions[i] = RF_predictions[i]/1000.0\n",
    "\n",
    "score = mean_squared_error(test_y, RF_predictions)\n",
    "\n",
    "print(\"I Have An MSE of\" + str(score) + \"!\" + \"\\nPredicting Data Now...\")\n",
    "\n"
   ]
  },
  {
   "cell_type": "markdown",
   "metadata": {},
   "source": [
    "### Predicting From Raw Data  ###"
   ]
  },
  {
   "cell_type": "code",
   "execution_count": null,
   "metadata": {},
   "outputs": [],
   "source": [
    "output = \"seg_id,time_to_failure\\n\"\n",
    "\n",
    "file_names = sorted(list(glob.glob(\"./test/*.csv\")))\n",
    "#file_names = file_names[:10]\n",
    "for file_name in file_names:\n",
    "    s_deviation = np.empty(0)\n",
    "    averages = np.empty(0)\n",
    "    minimums = np.empty(0)\n",
    "    maximums = np.empty(0)\n",
    "    variances = np.empty(0)\n",
    "\n",
    "    test_times = np.empty(0)\n",
    "    with open(file_name) as csv_file:\n",
    "        csv_reader = csv.reader(csv_file, delimiter=',')\n",
    "        line_count = 0\n",
    "        past_time = 0\n",
    "        X = np.empty(0)\n",
    "        for row in csv_reader:\n",
    "            if line_count == 0:\n",
    "                line_count += 1\n",
    "            elif len(X) == 4096:\n",
    "                s_deviation = np.append(s_deviation, X.std())\n",
    "                averages = np.append(averages, np.average(X))\n",
    "                minimums = np.append(minimums, np.min(X))\n",
    "                maximums = np.append(maximums, np.max(X))\n",
    "                variances = np.append(variances, np.var(X))\n",
    "    \n",
    "                X = np.empty(0)\n",
    "            else:\n",
    "                X = np.append(X, int(row[0]))\n",
    "            line_count += 1\n",
    "\n",
    "    test_X = pd.DataFrame({'s_deviation' : s_deviation, 'averages' : averages, 'minimums' : minimums, 'maximums' : maximums, 'variances' : variances})\n",
    "\n",
    "    RF_predictions = RF_model.predict(test_X)\n",
    "    \n",
    "    output += file_name.split(\".\")[1][6:] + \",\" + str(RF_predictions[len(RF_predictions)-1]/1000.0) + \"\\n\"\n",
    "\n",
    "output_file = open(\"test_results_RF.csv\", \"w+\")\n",
    "output_file.write(output)\n",
    "output_file.close()\n",
    "\n",
    "print(\"Predicting Done!\")"
   ]
  }
 ],
 "metadata": {
  "kernelspec": {
   "display_name": "Python 3",
   "language": "python",
   "name": "python3"
  },
  "language_info": {
   "codemirror_mode": {
    "name": "ipython",
    "version": 3
   },
   "file_extension": ".py",
   "mimetype": "text/x-python",
   "name": "python",
   "nbconvert_exporter": "python",
   "pygments_lexer": "ipython3",
   "version": "3.7.3"
  }
 },
 "nbformat": 4,
 "nbformat_minor": 2
}
