{
 "cells": [
  {
   "cell_type": "code",
   "execution_count": 1,
   "metadata": {},
   "outputs": [],
   "source": [
    "import pandas as pd\n",
    "import numpy as np\n",
    "import matplotlib.pyplot as plt\n",
    "import dask.dataframe as dd\n",
    "import time\n",
    "import os"
   ]
  },
  {
   "cell_type": "code",
   "execution_count": 2,
   "metadata": {},
   "outputs": [
    {
     "name": "stdout",
     "output_type": "stream",
     "text": [
      "Reading CSV with Pandas\n"
     ]
    }
   ],
   "source": [
    "dataset_dir = '../Data/LANL_Earthquake_prediction/'\n",
    "train_dir = dataset_dir + 'train.csv'\n",
    "test_dir = dataset_dir + 'test/'"
   ]
  },
  {
   "cell_type": "code",
   "execution_count": null,
   "metadata": {},
   "outputs": [],
   "source": [
    "print('Reading CSV with Pandas')\n",
    "df = pd.read_csv(train_dir)"
   ]
  },
  {
   "cell_type": "code",
   "execution_count": 3,
   "metadata": {},
   "outputs": [],
   "source": [
    "global_avg = df['time_to_failure'].mean()\n",
    "print('The global average time until an earthquake hits is %.4f' % global_avg)"
   ]
  },
  {
   "cell_type": "markdown",
   "metadata": {},
   "source": [
    "### Global Average MAE on Train Set:"
   ]
  },
  {
   "cell_type": "code",
   "execution_count": 17,
   "metadata": {},
   "outputs": [
    {
     "name": "stdout",
     "output_type": "stream",
     "text": [
      "Global Average Train MAE: 3.04819\n"
     ]
    }
   ],
   "source": [
    "df['AE'] = abs(df['time_to_failure'] - global_avg)\n",
    "train_MAE = df['AE'].mean()\n",
    "print('Global Average Train MAE: %.5f' % train_MAE)"
   ]
  },
  {
   "cell_type": "markdown",
   "metadata": {},
   "source": [
    "### Global Average MAE on Test Set (After submitting to Kaggle):"
   ]
  },
  {
   "cell_type": "code",
   "execution_count": 23,
   "metadata": {},
   "outputs": [],
   "source": [
    "file_names = os.listdir(f'{test_dir}')\n",
    "file_names = [file_name[:-4] for file_name in file_names] # removes the .csv"
   ]
  },
  {
   "cell_type": "code",
   "execution_count": 24,
   "metadata": {},
   "outputs": [],
   "source": [
    "y_dict = dict.fromkeys(file_names, global_avg)\n",
    "y_df = pd.DataFrame(list(y_dict.items()),columns=['seg_id', 'time_to_failure'])\n",
    "y_df = y_df.sort_values(by=['seg_id'])"
   ]
  },
  {
   "cell_type": "code",
   "execution_count": 25,
   "metadata": {},
   "outputs": [],
   "source": [
    "y_df.to_csv('global_average_submission.csv', index=False)"
   ]
  },
  {
   "cell_type": "code",
   "execution_count": 27,
   "metadata": {},
   "outputs": [
    {
     "name": "stdout",
     "output_type": "stream",
     "text": [
      "Global Average Test MAE: 2.79500\n",
      "This got us to rank 1904 from 2043 people who had submitted results.\n"
     ]
    }
   ],
   "source": [
    "test_MAE = 2.795\n",
    "print('Global Average Test MAE: %.5f' % test_MAE)\n",
    "print('This got us to rank 1904 from 2043 people who had submitted results.')"
   ]
  },
  {
   "cell_type": "code",
   "execution_count": null,
   "metadata": {},
   "outputs": [],
   "source": []
  }
 ],
 "metadata": {
  "kernelspec": {
   "display_name": "Python 3",
   "language": "python",
   "name": "python3"
  },
  "language_info": {
   "codemirror_mode": {
    "name": "ipython",
    "version": 3
   },
   "file_extension": ".py",
   "mimetype": "text/x-python",
   "name": "python",
   "nbconvert_exporter": "python",
   "pygments_lexer": "ipython3",
   "version": "3.6.6"
  }
 },
 "nbformat": 4,
 "nbformat_minor": 2
}
